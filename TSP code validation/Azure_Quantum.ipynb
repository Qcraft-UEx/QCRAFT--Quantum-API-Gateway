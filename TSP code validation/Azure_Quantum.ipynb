{
  "cells": [
    {
      "cell_type": "code",
      "execution_count": 1,
      "id": "c4c4ea97-760e-4a1a-acad-ab5a0ef28c4c",
      "metadata": {
        "jupyter": {
          "outputs_hidden": false,
          "source_hidden": false
        },
        "nteract": {
          "transient": {
            "deleting": false
          }
        }
      },
      "outputs": [],
      "source": [
        "from azure.quantum.qiskit import AzureQuantumProvider\n",
        "provider = AzureQuantumProvider (\n",
        "    resource_id = \"myresource_id\",\n",
        "    location = \"westeurope\"\n",
        ")"
      ]
    },
    {
      "cell_type": "code",
      "execution_count": 2,
      "id": "86eb3182-3dec-4248-a8bb-3ba86091943d",
      "metadata": {},
      "outputs": [
        {
          "name": "stdout",
          "output_type": "stream",
          "text": [
            "This workspace's targets:\n",
            "- ionq.qpu\n",
            "- ionq.simulator\n",
            "- quantinuum.hqs-lt-s1\n",
            "- quantinuum.hqs-lt-s1-apival\n",
            "- quantinuum.hqs-lt-s2\n",
            "- quantinuum.hqs-lt-s2-apival\n",
            "- quantinuum.hqs-lt-s1-sim\n",
            "- quantinuum.hqs-lt-s2-sim\n"
          ]
        }
      ],
      "source": [
        "from qiskit import QuantumCircuit, Aer, QuantumRegister, ClassicalRegister, execute\n",
        "from qiskit.visualization import plot_histogram, array_to_latex\n",
        "from qiskit.circuit.library import QFT\n",
        "from numpy import pi\n",
        "from qiskit.tools.monitor import job_monitor\n",
        "from qiskit import transpile\n",
        "\n",
        "print(\"This workspace's targets:\")\n",
        "for backend in provider.backends():\n",
        "    print(\"- \" + backend.name())"
      ]
    },
    {
      "cell_type": "code",
      "execution_count": 3,
      "id": "d2228966-2642-4d92-8c1d-0056755e3ba2",
      "metadata": {},
      "outputs": [],
      "source": [
        "def controlled_unitary(qc, qubits: list, phases: list): # x,y,z = Specific Qubit; a,b,c,d = Phases\n",
        "    qc.cp(phases[2]-phases[0], qubits[0], qubits[1]) # controlled-U1(c-a)\n",
        "    qc.p(phases[0], qubits[0]) # U1(a)\n",
        "    qc.cp(phases[1]-phases[0], qubits[0], qubits[2]) # controlled-U1(b-a)\n",
        "    \n",
        "    # controlled controlled U1(d-c+a-b)\n",
        "    qc.cp((phases[3]-phases[2]+phases[0]-phases[1])/2, qubits[1], qubits[2])\n",
        "    qc.cx(qubits[0], qubits[1])\n",
        "    qc.cp(-(phases[3]-phases[2]+phases[0]-phases[1])/2, qubits[1], qubits[2])\n",
        "    qc.cx(qubits[0], qubits[1])\n",
        "    qc.cp((phases[3]-phases[2]+phases[0]-phases[1])/2, qubits[0], qubits[2])"
      ]
    },
    {
      "cell_type": "code",
      "execution_count": 4,
      "id": "313ea99b-220f-4b18-9e45-912a39a08c2e",
      "metadata": {},
      "outputs": [],
      "source": [
        "def U(times, qc, unit, eigen, phases: list): # a,b,c = phases for U1; d,e,f = phases for U2; g,h,i = phases for U3; j,k,l = phases for U4; m_list=[m, n, o, p, q, r, s, t, u, a, b, c, d, e, f, g, h, i, j, k, l]\n",
        "    controlled_unitary(qc, [unit[0]]+eigen[0:2], [0]+phases[0:3])\n",
        "    controlled_unitary(qc, [unit[0]]+eigen[2:4], [phases[3]]+[0]+phases[4:6])\n",
        "    controlled_unitary(qc, [unit[0]]+eigen[4:6], phases[6:8]+[0]+[phases[8]])\n",
        "    controlled_unitary(qc, [unit[0]]+eigen[6:8], phases[9:12]+[0])"
      ]
    },
    {
      "cell_type": "code",
      "execution_count": 5,
      "id": "037effb3-fc70-4b09-917f-4524f3886338",
      "metadata": {},
      "outputs": [],
      "source": [
        "def final_U(times, eigen, phases: list):\n",
        "    unit = QuantumRegister(1, 'unit')\n",
        "    qc = QuantumCircuit(unit, eigen)\n",
        "    for _ in range(2**times):\n",
        "        U(times, qc, unit, eigen, phases)\n",
        "    return qc.to_gate(label='U'+'_'+(str(2**times)))"
      ]
    },
    {
      "cell_type": "code",
      "execution_count": 6,
      "id": "a77817f7-1828-448b-b80d-ee25c27eb2e6",
      "metadata": {},
      "outputs": [],
      "source": [
        "# Storing the eigenvalues in a list\n",
        "eigen_values = [\"11000110\", \"10001101\", \"11001001\", \"10000111\", \"01001110\", \"01001011\"]\n",
        "\n",
        "# Function to place appropriate corresponding gate according to eigenstates\n",
        "def eigenstates(qc, eigen, index):\n",
        "    for i in range(0, len(eigen)):\n",
        "        if eigen_values[index][i] == '1':\n",
        "            qc.x(eigen[i])\n",
        "        if eigen_values[index][i] == '0':\n",
        "            pass\n",
        "    qc.barrier()\n",
        "    return qc\n"
      ]
    },
    {
      "cell_type": "code",
      "execution_count": 7,
      "id": "abece04d-f5eb-4bf6-a916-6377e3b32c97",
      "metadata": {},
      "outputs": [
        {
          "data": {
            "text/html": [
              "<pre style=\"word-wrap: normal;white-space: pre;background: #fff0;line-height: 1.1;font-family: &quot;Courier New&quot;,Courier,monospace\">                        ░ ┌───┐ ░                                          »\n",
              "          unit_0: ──────░─┤ H ├─░──────────────────────────────────────────»\n",
              "                        ░ ├───┤ ░                                 ┌───────┐»\n",
              "          unit_1: ──────░─┤ H ├─░─────────────────────────────────┤0      ├»\n",
              "                        ░ ├───┤ ░                         ┌──────┐│       │»\n",
              "          unit_2: ──────░─┤ H ├─░─────────────────────────┤0     ├┤       ├»\n",
              "                        ░ ├───┤ ░                 ┌──────┐│      ││       │»\n",
              "          unit_3: ──────░─┤ H ├─░─────────────────┤0     ├┤      ├┤       ├»\n",
              "                        ░ ├───┤ ░         ┌──────┐│      ││      ││       │»\n",
              "          unit_4: ──────░─┤ H ├─░─────────┤0     ├┤      ├┤      ├┤       ├»\n",
              "                        ░ ├───┤ ░ ┌──────┐│      ││      ││      ││       │»\n",
              "          unit_5: ──────░─┤ H ├─░─┤0     ├┤      ├┤      ├┤      ├┤       ├»\n",
              "                  ┌───┐ ░ └───┘ ░ │      ││      ││      ││      ││       │»\n",
              "         eigen_0: ┤ X ├─░───────░─┤1     ├┤1     ├┤1     ├┤1     ├┤1      ├»\n",
              "                  ├───┤ ░       ░ │      ││      ││      ││      ││       │»\n",
              "         eigen_1: ┤ X ├─░───────░─┤2     ├┤2     ├┤2     ├┤2     ├┤2 U_16 ├»\n",
              "                  └───┘ ░       ░ │      ││      ││      ││  U_8 ││       │»\n",
              "         eigen_2: ──────░───────░─┤3     ├┤3     ├┤3 U_4 ├┤3     ├┤3      ├»\n",
              "                        ░       ░ │      ││  U_2 ││      ││      ││       │»\n",
              "         eigen_3: ──────░───────░─┤4 U_1 ├┤4     ├┤4     ├┤4     ├┤4      ├»\n",
              "                        ░       ░ │      ││      ││      ││      ││       │»\n",
              "         eigen_4: ──────░───────░─┤5     ├┤5     ├┤5     ├┤5     ├┤5      ├»\n",
              "                  ┌───┐ ░       ░ │      ││      ││      ││      ││       │»\n",
              "         eigen_5: ┤ X ├─░───────░─┤6     ├┤6     ├┤6     ├┤6     ├┤6      ├»\n",
              "                  ├───┤ ░       ░ │      ││      ││      ││      ││       │»\n",
              "         eigen_6: ┤ X ├─░───────░─┤7     ├┤7     ├┤7     ├┤7     ├┤7      ├»\n",
              "                  └───┘ ░       ░ │      ││      ││      ││      ││       │»\n",
              "         eigen_7: ──────░───────░─┤8     ├┤8     ├┤8     ├┤8     ├┤8      ├»\n",
              "                        ░       ░ └──────┘└──────┘└──────┘└──────┘└───────┘»\n",
              "unit_classical: 6/═════════════════════════════════════════════════════════»\n",
              "                                                                           »\n",
              "«                  ┌───────┐ ░ ┌──────────────┐ ░ ┌─┐               \n",
              "«          unit_0: ┤0      ├─░─┤0             ├─░─┤M├───────────────\n",
              "«                  │       │ ░ │              │ ░ └╥┘┌─┐            \n",
              "«          unit_1: ┤       ├─░─┤1             ├─░──╫─┤M├────────────\n",
              "«                  │       │ ░ │              │ ░  ║ └╥┘┌─┐         \n",
              "«          unit_2: ┤       ├─░─┤2             ├─░──╫──╫─┤M├─────────\n",
              "«                  │       │ ░ │  Inverse QFT │ ░  ║  ║ └╥┘┌─┐      \n",
              "«          unit_3: ┤       ├─░─┤3             ├─░──╫──╫──╫─┤M├──────\n",
              "«                  │       │ ░ │              │ ░  ║  ║  ║ └╥┘┌─┐   \n",
              "«          unit_4: ┤       ├─░─┤4             ├─░──╫──╫──╫──╫─┤M├───\n",
              "«                  │       │ ░ │              │ ░  ║  ║  ║  ║ └╥┘┌─┐\n",
              "«          unit_5: ┤       ├─░─┤5             ├─░──╫──╫──╫──╫──╫─┤M├\n",
              "«                  │       │ ░ └──────────────┘ ░  ║  ║  ║  ║  ║ └╥┘\n",
              "«         eigen_0: ┤1      ├─░──────────────────░──╫──╫──╫──╫──╫──╫─\n",
              "«                  │  U_32 │ ░                  ░  ║  ║  ║  ║  ║  ║ \n",
              "«         eigen_1: ┤2      ├─░──────────────────░──╫──╫──╫──╫──╫──╫─\n",
              "«                  │       │ ░                  ░  ║  ║  ║  ║  ║  ║ \n",
              "«         eigen_2: ┤3      ├─░──────────────────░──╫──╫──╫──╫──╫──╫─\n",
              "«                  │       │ ░                  ░  ║  ║  ║  ║  ║  ║ \n",
              "«         eigen_3: ┤4      ├─░──────────────────░──╫──╫──╫──╫──╫──╫─\n",
              "«                  │       │ ░                  ░  ║  ║  ║  ║  ║  ║ \n",
              "«         eigen_4: ┤5      ├─░──────────────────░──╫──╫──╫──╫──╫──╫─\n",
              "«                  │       │ ░                  ░  ║  ║  ║  ║  ║  ║ \n",
              "«         eigen_5: ┤6      ├─░──────────────────░──╫──╫──╫──╫──╫──╫─\n",
              "«                  │       │ ░                  ░  ║  ║  ║  ║  ║  ║ \n",
              "«         eigen_6: ┤7      ├─░──────────────────░──╫──╫──╫──╫──╫──╫─\n",
              "«                  │       │ ░                  ░  ║  ║  ║  ║  ║  ║ \n",
              "«         eigen_7: ┤8      ├─░──────────────────░──╫──╫──╫──╫──╫──╫─\n",
              "«                  └───────┘ ░                  ░  ║  ║  ║  ║  ║  ║ \n",
              "«unit_classical: 6/════════════════════════════════╩══╩══╩══╩══╩══╩═\n",
              "«                                                  0  1  2  3  4  5 </pre>"
            ],
            "text/plain": [
              "                        ░ ┌───┐ ░                                          »\n",
              "          unit_0: ──────░─┤ H ├─░──────────────────────────────────────────»\n",
              "                        ░ ├───┤ ░                                 ┌───────┐»\n",
              "          unit_1: ──────░─┤ H ├─░─────────────────────────────────┤0      ├»\n",
              "                        ░ ├───┤ ░                         ┌──────┐│       │»\n",
              "          unit_2: ──────░─┤ H ├─░─────────────────────────┤0     ├┤       ├»\n",
              "                        ░ ├───┤ ░                 ┌──────┐│      ││       │»\n",
              "          unit_3: ──────░─┤ H ├─░─────────────────┤0     ├┤      ├┤       ├»\n",
              "                        ░ ├───┤ ░         ┌──────┐│      ││      ││       │»\n",
              "          unit_4: ──────░─┤ H ├─░─────────┤0     ├┤      ├┤      ├┤       ├»\n",
              "                        ░ ├───┤ ░ ┌──────┐│      ││      ││      ││       │»\n",
              "          unit_5: ──────░─┤ H ├─░─┤0     ├┤      ├┤      ├┤      ├┤       ├»\n",
              "                  ┌───┐ ░ └───┘ ░ │      ││      ││      ││      ││       │»\n",
              "         eigen_0: ┤ X ├─░───────░─┤1     ├┤1     ├┤1     ├┤1     ├┤1      ├»\n",
              "                  ├───┤ ░       ░ │      ││      ││      ││      ││       │»\n",
              "         eigen_1: ┤ X ├─░───────░─┤2     ├┤2     ├┤2     ├┤2     ├┤2 U_16 ├»\n",
              "                  └───┘ ░       ░ │      ││      ││      ││  U_8 ││       │»\n",
              "         eigen_2: ──────░───────░─┤3     ├┤3     ├┤3 U_4 ├┤3     ├┤3      ├»\n",
              "                        ░       ░ │      ││  U_2 ││      ││      ││       │»\n",
              "         eigen_3: ──────░───────░─┤4 U_1 ├┤4     ├┤4     ├┤4     ├┤4      ├»\n",
              "                        ░       ░ │      ││      ││      ││      ││       │»\n",
              "         eigen_4: ──────░───────░─┤5     ├┤5     ├┤5     ├┤5     ├┤5      ├»\n",
              "                  ┌───┐ ░       ░ │      ││      ││      ││      ││       │»\n",
              "         eigen_5: ┤ X ├─░───────░─┤6     ├┤6     ├┤6     ├┤6     ├┤6      ├»\n",
              "                  ├───┤ ░       ░ │      ││      ││      ││      ││       │»\n",
              "         eigen_6: ┤ X ├─░───────░─┤7     ├┤7     ├┤7     ├┤7     ├┤7      ├»\n",
              "                  └───┘ ░       ░ │      ││      ││      ││      ││       │»\n",
              "         eigen_7: ──────░───────░─┤8     ├┤8     ├┤8     ├┤8     ├┤8      ├»\n",
              "                        ░       ░ └──────┘└──────┘└──────┘└──────┘└───────┘»\n",
              "unit_classical: 6/═════════════════════════════════════════════════════════»\n",
              "                                                                           »\n",
              "«                  ┌───────┐ ░ ┌──────────────┐ ░ ┌─┐               \n",
              "«          unit_0: ┤0      ├─░─┤0             ├─░─┤M├───────────────\n",
              "«                  │       │ ░ │              │ ░ └╥┘┌─┐            \n",
              "«          unit_1: ┤       ├─░─┤1             ├─░──╫─┤M├────────────\n",
              "«                  │       │ ░ │              │ ░  ║ └╥┘┌─┐         \n",
              "«          unit_2: ┤       ├─░─┤2             ├─░──╫──╫─┤M├─────────\n",
              "«                  │       │ ░ │  Inverse QFT │ ░  ║  ║ └╥┘┌─┐      \n",
              "«          unit_3: ┤       ├─░─┤3             ├─░──╫──╫──╫─┤M├──────\n",
              "«                  │       │ ░ │              │ ░  ║  ║  ║ └╥┘┌─┐   \n",
              "«          unit_4: ┤       ├─░─┤4             ├─░──╫──╫──╫──╫─┤M├───\n",
              "«                  │       │ ░ │              │ ░  ║  ║  ║  ║ └╥┘┌─┐\n",
              "«          unit_5: ┤       ├─░─┤5             ├─░──╫──╫──╫──╫──╫─┤M├\n",
              "«                  │       │ ░ └──────────────┘ ░  ║  ║  ║  ║  ║ └╥┘\n",
              "«         eigen_0: ┤1      ├─░──────────────────░──╫──╫──╫──╫──╫──╫─\n",
              "«                  │  U_32 │ ░                  ░  ║  ║  ║  ║  ║  ║ \n",
              "«         eigen_1: ┤2      ├─░──────────────────░──╫──╫──╫──╫──╫──╫─\n",
              "«                  │       │ ░                  ░  ║  ║  ║  ║  ║  ║ \n",
              "«         eigen_2: ┤3      ├─░──────────────────░──╫──╫──╫──╫──╫──╫─\n",
              "«                  │       │ ░                  ░  ║  ║  ║  ║  ║  ║ \n",
              "«         eigen_3: ┤4      ├─░──────────────────░──╫──╫──╫──╫──╫──╫─\n",
              "«                  │       │ ░                  ░  ║  ║  ║  ║  ║  ║ \n",
              "«         eigen_4: ┤5      ├─░──────────────────░──╫──╫──╫──╫──╫──╫─\n",
              "«                  │       │ ░                  ░  ║  ║  ║  ║  ║  ║ \n",
              "«         eigen_5: ┤6      ├─░──────────────────░──╫──╫──╫──╫──╫──╫─\n",
              "«                  │       │ ░                  ░  ║  ║  ║  ║  ║  ║ \n",
              "«         eigen_6: ┤7      ├─░──────────────────░──╫──╫──╫──╫──╫──╫─\n",
              "«                  │       │ ░                  ░  ║  ║  ║  ║  ║  ║ \n",
              "«         eigen_7: ┤8      ├─░──────────────────░──╫──╫──╫──╫──╫──╫─\n",
              "«                  └───────┘ ░                  ░  ║  ║  ║  ║  ║  ║ \n",
              "«unit_classical: 6/════════════════════════════════╩══╩══╩══╩══╩══╩═\n",
              "«                                                  0  1  2  3  4  5 "
            ]
          },
          "execution_count": 7,
          "metadata": {},
          "output_type": "execute_result"
        }
      ],
      "source": [
        "# Initialization\n",
        "unit = QuantumRegister(6, 'unit')\n",
        "eigen = QuantumRegister(8, 'eigen')\n",
        "unit_classical = ClassicalRegister(6, 'unit_classical')\n",
        "qc = QuantumCircuit(unit, eigen, unit_classical)\n",
        "#\n",
        "\n",
        "# Setting one eigenstate \n",
        "# In this case it has been chosen the first eigenstate i.e. 11000110 from eigen_values list.\n",
        "eigenstates(qc, eigen, 0)\n",
        "#\n",
        "\n",
        "# Hadamard on the 'unit' qubits\n",
        "qc.h(unit[:])\n",
        "qc.barrier()\n",
        "#\n",
        "\n",
        "# Controlled Unitary  \n",
        "phases = [pi / 2, pi / 8, pi / 4, pi / 2, pi / 4, pi / 4, pi / 8, pi / 4, pi / 8, pi / 4, pi / 4, pi / 8] # a, b, c, d, e, f, g, h, i, j, k, l\n",
        "for i in range(0, 6):\n",
        "    qc.append(final_U(i, eigen, phases), [unit[5-i]] + eigen[:])\n",
        "#\n",
        "\n",
        "# Inverse QFT \n",
        "qc.barrier()\n",
        "qft = QFT(num_qubits=len(unit), inverse=True, insert_barriers=True, do_swaps=False, name='Inverse QFT')\n",
        "qc.append(qft, qc.qubits[:len(unit)])\n",
        "qc.barrier()\n",
        "#\n",
        "\n",
        "# Measure\n",
        "qc.measure(unit, unit_classical)\n",
        "#\n",
        "\n",
        "# Draw\n",
        "qc.draw()"
      ]
    },
    {
      "cell_type": "code",
      "execution_count": 11,
      "id": "6347a598-2ec9-4b52-9e53-fda3a0b5c738",
      "metadata": {},
      "outputs": [
        {
          "name": "stdout",
          "output_type": "stream",
          "text": [
            "Job id: 92874b76-23fd-11ed-a100-00155d5ef23b\n"
          ]
        }
      ],
      "source": [
        "from qiskit import transpile\n",
        "#   Note that any target you have enabled in this workspace can\n",
        "#   be used here. Azure Quantum makes it extremely easy to submit\n",
        "#   the same quantum program to different providers. \n",
        "ionq_backend = provider.get_backend(\"ionq.qpu\")\n",
        "job = ionq_backend.run(transpile(qc, ionq_backend), shots=8192)\n",
        "print(\"Job id:\", job.id())"
      ]
    },
    {
      "cell_type": "code",
      "execution_count": 12,
      "id": "513aa9ff-9333-4388-9c16-7552c40380eb",
      "metadata": {},
      "outputs": [
        {
          "name": "stdout",
          "output_type": "stream",
          "text": [
            "\rJob Status: job has successfully run\n"
          ]
        },
        {
          "data": {
            "image/png": "[encoded data removed]",
            "text/plain": [
              "<Figure size 504x360 with 1 Axes>"
            ]
          },
          "execution_count": 12,
          "metadata": {},
          "output_type": "execute_result"
        }
      ],
      "source": [
        "job_monitor(job)\n",
        "\n",
        "result = job.result()\n",
        "\n",
        "# The result object is native to the Qiskit package, so we can use Qiskit's tools to print the result as a histogram.\n",
        "plot_histogram(result.get_counts(qc), title=\"Result\")"
      ]
    },
    {
      "cell_type": "code",
      "execution_count": 15,
      "id": "04e41657-03c4-48fe-bcf5-43265a2a12cd",
      "metadata": {
        "jupyter": {
          "outputs_hidden": false,
          "source_hidden": false
        },
        "nteract": {
          "transient": {
            "deleting": false
          }
        }
      },
      "outputs": [
        {
          "name": "stdout",
          "output_type": "stream",
          "text": [
            "Estimated cost: 53.98499999999999 USD\n"
          ]
        }
      ],
      "source": [
        "backend = provider.get_backend(\"quantinuum.hqs-lt-s1\")\n",
        "cost = backend.estimate_cost(transpile(qc, ionq_backend), shots=100)\n",
        "print(f\"Estimated cost: {cost.estimated_total} {cost.currency_code}\")"
      ]
    }
  ],
  "metadata": {
    "kernel_info": {
      "name": "python3"
    },
    "kernelspec": {
      "display_name": "Python 3 (ipykernel)",
      "language": "python",
      "name": "python3"
    },
    "language_info": {
      "codemirror_mode": {
        "name": "ipython",
        "version": 3
      },
      "file_extension": ".py",
      "mimetype": "text/x-python",
      "name": "python",
      "nbconvert_exporter": "python",
      "pygments_lexer": "ipython3",
      "version": "3.7.13"
    },
    "nteract": {
      "version": "nteract-front-end@1.0.0"
    },
    "widgets": {
      "application/vnd.jupyter.widget-state+json": {
        "state": {},
        "version_major": 2,
        "version_minor": 0
      }
    }
  },
  "nbformat": 4,
  "nbformat_minor": 5
}
